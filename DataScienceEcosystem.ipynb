{
    "cells": [
        {
            "cell_type": "markdown",
            "metadata": {},
            "source": "# Data Science Tools and Ecosystem"
        },
        {
            "cell_type": "markdown",
            "metadata": {},
            "source": "## In this notebook, Data Science Tools and Ecosystem are summarized."
        },
        {
            "cell_type": "markdown",
            "metadata": {},
            "source": "**Objectives:**\n* Create a Jupyter Notebook with markdown and code cells\n* List examples of languages, libraries and tools used in Data Science\n* Share your Jupyter Notebook publicly on GitHub\n* Evaluate notebooks submitted by your peers using the provided rubric\n* Demonstrate proficiency in Data Science toolkit knowledge"
        },
        {
            "cell_type": "markdown",
            "metadata": {},
            "source": "Some of the popular languages that Data Scientists use are:\n* Python\n* R\n* SQL\n* Scala"
        },
        {
            "cell_type": "markdown",
            "metadata": {},
            "source": "Some of the commonly used libraries used by Data Scientists include:\n- ggplot\n- ggplot2\n- GGally\n- datasets"
        },
        {
            "cell_type": "markdown",
            "metadata": {},
            "source": "| Data Science Tools |\n| ------------------ |\n| Jupyter Notebooks |\n| RStudio |\n| VS Code |"
        },
        {
            "cell_type": "markdown",
            "metadata": {},
            "source": "### Below are a few examples of evaluating arithmetic expressions in Python."
        },
        {
            "cell_type": "code",
            "execution_count": 1,
            "metadata": {},
            "outputs": [
                {
                    "data": {
                        "text/plain": "17"
                    },
                    "execution_count": 1,
                    "metadata": {},
                    "output_type": "execute_result"
                }
            ],
            "source": "#This a simple arithmetic expression to mutiply then add integers.\n(3*4)+5"
        },
        {
            "cell_type": "code",
            "execution_count": 2,
            "metadata": {},
            "outputs": [
                {
                    "data": {
                        "text/plain": "3.3333333333333335"
                    },
                    "execution_count": 2,
                    "metadata": {},
                    "output_type": "execute_result"
                }
            ],
            "source": "#This will convert 200 minutes to hours by diving by 60.\n200/60"
        },
        {
            "cell_type": "markdown",
            "metadata": {},
            "source": "## Author\nAhmed Awadallah"
        },
        {
            "cell_type": "code",
            "execution_count": 1,
            "metadata": {},
            "outputs": [
                {
                    "data": {
                        "text/html": "<div>\n<style scoped>\n    .dataframe tbody tr th:only-of-type {\n        vertical-align: middle;\n    }\n\n    .dataframe tbody tr th {\n        vertical-align: top;\n    }\n\n    .dataframe thead th {\n        text-align: right;\n    }\n</style>\n<table border=\"1\" class=\"dataframe\">\n  <thead>\n    <tr style=\"text-align: right;\">\n      <th></th>\n      <th>Package</th>\n      <th>Item</th>\n      <th>Title</th>\n      <th>Rows</th>\n      <th>Cols</th>\n      <th>n_binary</th>\n      <th>n_character</th>\n      <th>n_factor</th>\n      <th>n_logical</th>\n      <th>n_numeric</th>\n      <th>CSV</th>\n      <th>Doc</th>\n    </tr>\n  </thead>\n  <tbody>\n    <tr>\n      <th>0</th>\n      <td>AER</td>\n      <td>Affairs</td>\n      <td>Fair's Extramarital Affairs Data</td>\n      <td>601</td>\n      <td>9</td>\n      <td>2</td>\n      <td>0</td>\n      <td>2</td>\n      <td>0</td>\n      <td>7</td>\n      <td>https://vincentarelbundock.github.io/Rdatasets...</td>\n      <td>https://vincentarelbundock.github.io/Rdatasets...</td>\n    </tr>\n    <tr>\n      <th>1</th>\n      <td>AER</td>\n      <td>ArgentinaCPI</td>\n      <td>Consumer Price Index in Argentina</td>\n      <td>80</td>\n      <td>2</td>\n      <td>0</td>\n      <td>0</td>\n      <td>0</td>\n      <td>0</td>\n      <td>2</td>\n      <td>https://vincentarelbundock.github.io/Rdatasets...</td>\n      <td>https://vincentarelbundock.github.io/Rdatasets...</td>\n    </tr>\n    <tr>\n      <th>2</th>\n      <td>AER</td>\n      <td>BankWages</td>\n      <td>Bank Wages</td>\n      <td>474</td>\n      <td>4</td>\n      <td>2</td>\n      <td>0</td>\n      <td>3</td>\n      <td>0</td>\n      <td>1</td>\n      <td>https://vincentarelbundock.github.io/Rdatasets...</td>\n      <td>https://vincentarelbundock.github.io/Rdatasets...</td>\n    </tr>\n    <tr>\n      <th>3</th>\n      <td>AER</td>\n      <td>BenderlyZwick</td>\n      <td>Benderly and Zwick Data: Inflation, Growth and...</td>\n      <td>31</td>\n      <td>5</td>\n      <td>0</td>\n      <td>0</td>\n      <td>0</td>\n      <td>0</td>\n      <td>5</td>\n      <td>https://vincentarelbundock.github.io/Rdatasets...</td>\n      <td>https://vincentarelbundock.github.io/Rdatasets...</td>\n    </tr>\n    <tr>\n      <th>4</th>\n      <td>AER</td>\n      <td>BondYield</td>\n      <td>Bond Yield Data</td>\n      <td>60</td>\n      <td>2</td>\n      <td>0</td>\n      <td>0</td>\n      <td>0</td>\n      <td>0</td>\n      <td>2</td>\n      <td>https://vincentarelbundock.github.io/Rdatasets...</td>\n      <td>https://vincentarelbundock.github.io/Rdatasets...</td>\n    </tr>\n    <tr>\n      <th>5</th>\n      <td>AER</td>\n      <td>CartelStability</td>\n      <td>CartelStability</td>\n      <td>328</td>\n      <td>5</td>\n      <td>2</td>\n      <td>0</td>\n      <td>3</td>\n      <td>0</td>\n      <td>2</td>\n      <td>https://vincentarelbundock.github.io/Rdatasets...</td>\n      <td>https://vincentarelbundock.github.io/Rdatasets...</td>\n    </tr>\n    <tr>\n      <th>6</th>\n      <td>AER</td>\n      <td>CASchools</td>\n      <td>California Test Score Data</td>\n      <td>420</td>\n      <td>14</td>\n      <td>1</td>\n      <td>2</td>\n      <td>2</td>\n      <td>0</td>\n      <td>10</td>\n      <td>https://vincentarelbundock.github.io/Rdatasets...</td>\n      <td>https://vincentarelbundock.github.io/Rdatasets...</td>\n    </tr>\n    <tr>\n      <th>7</th>\n      <td>AER</td>\n      <td>ChinaIncome</td>\n      <td>Chinese Real National Income Data</td>\n      <td>37</td>\n      <td>5</td>\n      <td>0</td>\n      <td>0</td>\n      <td>0</td>\n      <td>0</td>\n      <td>5</td>\n      <td>https://vincentarelbundock.github.io/Rdatasets...</td>\n      <td>https://vincentarelbundock.github.io/Rdatasets...</td>\n    </tr>\n    <tr>\n      <th>8</th>\n      <td>AER</td>\n      <td>CigarettesB</td>\n      <td>Cigarette Consumption Data</td>\n      <td>46</td>\n      <td>3</td>\n      <td>0</td>\n      <td>0</td>\n      <td>0</td>\n      <td>0</td>\n      <td>3</td>\n      <td>https://vincentarelbundock.github.io/Rdatasets...</td>\n      <td>https://vincentarelbundock.github.io/Rdatasets...</td>\n    </tr>\n    <tr>\n      <th>9</th>\n      <td>AER</td>\n      <td>CigarettesSW</td>\n      <td>Cigarette Consumption Panel Data</td>\n      <td>96</td>\n      <td>9</td>\n      <td>2</td>\n      <td>0</td>\n      <td>2</td>\n      <td>0</td>\n      <td>7</td>\n      <td>https://vincentarelbundock.github.io/Rdatasets...</td>\n      <td>https://vincentarelbundock.github.io/Rdatasets...</td>\n    </tr>\n  </tbody>\n</table>\n</div>",
                        "text/plain": "  Package             Item                                              Title  \\\n0     AER          Affairs                   Fair's Extramarital Affairs Data   \n1     AER     ArgentinaCPI                  Consumer Price Index in Argentina   \n2     AER        BankWages                                         Bank Wages   \n3     AER    BenderlyZwick  Benderly and Zwick Data: Inflation, Growth and...   \n4     AER        BondYield                                    Bond Yield Data   \n5     AER  CartelStability                                    CartelStability   \n6     AER        CASchools                         California Test Score Data   \n7     AER      ChinaIncome                  Chinese Real National Income Data   \n8     AER      CigarettesB                         Cigarette Consumption Data   \n9     AER     CigarettesSW                   Cigarette Consumption Panel Data   \n\n   Rows  Cols  n_binary  n_character  n_factor  n_logical  n_numeric  \\\n0   601     9         2            0         2          0          7   \n1    80     2         0            0         0          0          2   \n2   474     4         2            0         3          0          1   \n3    31     5         0            0         0          0          5   \n4    60     2         0            0         0          0          2   \n5   328     5         2            0         3          0          2   \n6   420    14         1            2         2          0         10   \n7    37     5         0            0         0          0          5   \n8    46     3         0            0         0          0          3   \n9    96     9         2            0         2          0          7   \n\n                                                 CSV  \\\n0  https://vincentarelbundock.github.io/Rdatasets...   \n1  https://vincentarelbundock.github.io/Rdatasets...   \n2  https://vincentarelbundock.github.io/Rdatasets...   \n3  https://vincentarelbundock.github.io/Rdatasets...   \n4  https://vincentarelbundock.github.io/Rdatasets...   \n5  https://vincentarelbundock.github.io/Rdatasets...   \n6  https://vincentarelbundock.github.io/Rdatasets...   \n7  https://vincentarelbundock.github.io/Rdatasets...   \n8  https://vincentarelbundock.github.io/Rdatasets...   \n9  https://vincentarelbundock.github.io/Rdatasets...   \n\n                                                 Doc  \n0  https://vincentarelbundock.github.io/Rdatasets...  \n1  https://vincentarelbundock.github.io/Rdatasets...  \n2  https://vincentarelbundock.github.io/Rdatasets...  \n3  https://vincentarelbundock.github.io/Rdatasets...  \n4  https://vincentarelbundock.github.io/Rdatasets...  \n5  https://vincentarelbundock.github.io/Rdatasets...  \n6  https://vincentarelbundock.github.io/Rdatasets...  \n7  https://vincentarelbundock.github.io/Rdatasets...  \n8  https://vincentarelbundock.github.io/Rdatasets...  \n9  https://vincentarelbundock.github.io/Rdatasets...  "
                    },
                    "execution_count": 1,
                    "metadata": {},
                    "output_type": "execute_result"
                }
            ],
            "source": "# The code was removed by Watson Studio for sharing."
        },
        {
            "cell_type": "code",
            "execution_count": null,
            "metadata": {},
            "outputs": [],
            "source": ""
        }
    ],
    "metadata": {
        "kernelspec": {
            "display_name": "Python 3.10",
            "language": "python",
            "name": "python3"
        },
        "language_info": {
            "codemirror_mode": {
                "name": "ipython",
                "version": 3
            },
            "file_extension": ".py",
            "mimetype": "text/x-python",
            "name": "python",
            "nbconvert_exporter": "python",
            "pygments_lexer": "ipython3",
            "version": "3.10.14"
        }
    },
    "nbformat": 4,
    "nbformat_minor": 4
}